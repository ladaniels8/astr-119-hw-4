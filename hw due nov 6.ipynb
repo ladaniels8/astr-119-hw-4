{
 "cells": [
  {
   "cell_type": "markdown",
   "metadata": {},
   "source": [
    "# HW Due Nov 6\n",
    "f(x) = e**-2x.cos(10x)"
   ]
  },
  {
   "cell_type": "code",
   "execution_count": 133,
   "metadata": {},
   "outputs": [],
   "source": [
    "%matplotlib inline\n",
    "import numpy as np \n",
    "import matplotlib.pyplot as plt "
   ]
  },
  {
   "cell_type": "code",
   "execution_count": 134,
   "metadata": {},
   "outputs": [],
   "source": [
    "def func(x):\n",
    "    a = -2\n",
    "    b = 10\n",
    "    c = np.cos(10*x)\n",
    "    d = np.e\n",
    "    return d**a*x *c"
   ]
  },
  {
   "cell_type": "code",
   "execution_count": 135,
   "metadata": {},
   "outputs": [],
   "source": [
    "def func_integral(x):\n",
    "    a = -2\n",
    "    b = 10 \n",
    "    c = -1/2\n",
    "    u = np.cos(10*x)\n",
    "    l = 1/10\n",
    "    g = np.sin(10*x)\n",
    "    s = np.e\n",
    "    return -l*g*s**a*x + c*u*s**a*x"
   ]
  },
  {
   "cell_type": "code",
   "execution_count": 136,
   "metadata": {},
   "outputs": [],
   "source": [
    "def trapezoid_core(f,x,h):\n",
    "    return 0.5*h*(f(x+h) + f(x))"
   ]
  },
  {
   "cell_type": "code",
   "execution_count": 137,
   "metadata": {},
   "outputs": [],
   "source": [
    "def trapezoid_method(f,a,b,N):\n",
    "    \n",
    "    x = np.linspace(a,b,N)\n",
    "    h = x[1]-x[0]\n",
    "    \n",
    "    Fint = 0.0\n",
    "    \n",
    "    for i in range(0,len(x)-1,1):\n",
    "        Fint += trapezoid_core(f,x[i],h)\n",
    "        \n",
    "    return Fint "
   ]
  },
  {
   "cell_type": "code",
   "execution_count": 138,
   "metadata": {},
   "outputs": [],
   "source": [
    "def simpson_core(f,x,h):\n",
    "    return h*( f(x) + 4*f(x+h) + f(x+2*h))/3."
   ]
  },
  {
   "cell_type": "code",
   "execution_count": 139,
   "metadata": {},
   "outputs": [],
   "source": [
    "def simpsons_method(f,a,b,N):\n",
    "    \n",
    "    x = np.linspace(a,b,N)\n",
    "    h = x[1]-x[0]\n",
    "    \n",
    "    Fint = 0.0\n",
    "    \n",
    "    for i in range(0,len(x)-2,2):\n",
    "        Fint += simpson_core(f,x[i],h)\n",
    "        \n",
    "    if((N%2)==0):\n",
    "        Fint += simpson_core(f,x[-2],0.5*h)\n",
    "        \n",
    "    return Fint"
   ]
  },
  {
   "cell_type": "code",
   "execution_count": 140,
   "metadata": {},
   "outputs": [],
   "source": [
    "def romberg_core(f,a,b,i):\n",
    "    \n",
    "    h = b-a\n",
    "    \n",
    "    dh = h/2.**(i)\n",
    "    \n",
    "    K = h/2.**(i+1)\n",
    "    \n",
    "    M = 0.0\n",
    "    for j in range(2**i):\n",
    "        M += f(a + 0.5*dh + j*dh)\n",
    "        \n",
    "    return K*M"
   ]
  },
  {
   "cell_type": "code",
   "execution_count": 141,
   "metadata": {},
   "outputs": [],
   "source": [
    "def romberg_integration(f,a,b,tol):\n",
    "    \n",
    "    i = 0 \n",
    "    imax = 1000\n",
    "    delta = 100.0*np.fabs(tol)\n",
    "    \n",
    "    I = np.zeros(imax,dtype=float)\n",
    "    \n",
    "    I[0] = 0.5*(b-a)*(f(a) + f(b))\n",
    "    \n",
    "    i += 1\n",
    "    while(delta>tol):\n",
    "        I[i] = 0.5*I[i-1] + romberg_core(f,a,b,i)\n",
    "        \n",
    "        delta = np.fabs( (I[i]-I[i-1])/I[i] )\n",
    "        \n",
    "        print(i,I[i],I[i-1],delta)\n",
    "        \n",
    "        if(delta>tol):\n",
    "            \n",
    "            i+=1\n",
    "            \n",
    "            if(i>imax):\n",
    "                print(\"Max iterations reached.\")\n",
    "                raise StopIteration('Stopping iterations after ',i)\n",
    "                \n",
    "    return I[i]"
   ]
  },
  {
   "cell_type": "code",
   "execution_count": 143,
   "metadata": {},
   "outputs": [
    {
     "name": "stdout",
     "output_type": "stream",
     "text": [
      "0.06414051663456066\n",
      "Trapezoid\n",
      "-0.009350594412662458\n",
      "Simpson's Method\n",
      "-0.009715127491973426\n",
      "Romberg\n",
      "1 -0.026369435221222273 -0.0567779915216697 1.153174349216795\n",
      "2 -0.01871449276205015 -0.026369435221222273 0.4090382013823564\n",
      "3 -0.014441120250432541 -0.01871449276205015 0.2959169674866196\n",
      "4 -0.0121859259607947 -0.014441120250432541 0.18506548430487677\n",
      "5 -0.011028596578064275 -0.0121859259607947 0.10493895343241914\n",
      "6 -0.010442495985425699 -0.011028596578064275 0.056126484841993764\n",
      "7 -0.010147586590050151 -0.010442495985425699 0.029062023049373185\n",
      "8 -0.009999667110689982 -0.010147586590050151 0.014792440360543455\n",
      "9 -0.009925591175172858 -0.009999667110689982 0.00746312579369698\n",
      "10 -0.00988852415842906 -0.009925591175172858 0.0037484882627506237\n",
      "11 -0.009869983387809218 -0.00988852415842906 0.0018785006915759913\n",
      "12 -0.009860711186937217 -0.009869983387809218 0.0009403176602803148\n",
      "13 -0.009856074632610705 -0.009860711186937217 0.00047042605695896627\n",
      "14 -0.009853756241974806 -0.009856074632610705 0.000235279885047513\n",
      "15 -0.009852597018288698 -0.009853756241974806 0.00011765666290386381\n",
      "16 -0.009852017399353574 -0.009852597018288698 5.883251233013669e-05\n",
      "17 -0.0098517275881129 -0.009852017399353574 2.9417301491752648e-05\n",
      "18 -0.009851582682049404 -0.0098517275881129 1.470891207761283e-05\n",
      "19 -0.009851510228906867 -0.009851582682049404 7.354521373286736e-06\n",
      "20 -0.009851474002307853 -0.009851510228906867 3.677277025296406e-06\n",
      "21 -0.009851455889001447 -0.009851474002307853 1.8386425934613442e-06\n",
      "22 -0.009851446832346511 -0.009851455889001447 9.193223178834069e-07\n",
      "-0.009851446832346511 -1.1535916351979971 1e-06\n"
     ]
    }
   ],
   "source": [
    "Answer = func_integral(1)-func_integral(0)\n",
    "print(Answer)\n",
    "print(\"Trapezoid\")\n",
    "print(trapezoid_method(func,0,1,10))\n",
    "print(\"Simpson's Method\")\n",
    "print(simpsons_method(func,0,1,10))\n",
    "print(\"Romberg\")\n",
    "tolerance = 1.0e-6\n",
    "RI = romberg_integration(func,0,1,tolerance)\n",
    "print(RI, (RI-Answer)/Answer, tolerance)"
   ]
  },
  {
   "cell_type": "code",
   "execution_count": null,
   "metadata": {},
   "outputs": [],
   "source": []
  }
 ],
 "metadata": {
  "kernelspec": {
   "display_name": "Python 3",
   "language": "python",
   "name": "python3"
  },
  "language_info": {
   "codemirror_mode": {
    "name": "ipython",
    "version": 3
   },
   "file_extension": ".py",
   "mimetype": "text/x-python",
   "name": "python",
   "nbconvert_exporter": "python",
   "pygments_lexer": "ipython3",
   "version": "3.6.5"
  }
 },
 "nbformat": 4,
 "nbformat_minor": 2
}
